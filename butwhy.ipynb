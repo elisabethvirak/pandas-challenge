{
 "nbformat": 4,
 "nbformat_minor": 2,
 "metadata": {
  "language_info": {
   "name": "python",
   "codemirror_mode": {
    "name": "ipython",
    "version": 3
   }
  },
  "orig_nbformat": 2,
  "file_extension": ".py",
  "mimetype": "text/x-python",
  "name": "python",
  "npconvert_exporter": "python",
  "pygments_lexer": "ipython3",
  "version": 3
 },
 "cells": [
  {
   "cell_type": "code",
   "execution_count": null,
   "metadata": {},
   "outputs": [],
   "source": [
    "# deborah's code\n",
    "# find min and max age\n",
    "print(purchase_data[\"Age\"].min()) # 7\n",
    "print(purchase_data[\"Age\"].max()) # 45\n",
    "\n",
    "# create groups and labels for age\n",
    "age_bins = [0,10,15,20,25,30,35,40,100]\n",
    "age_groups = [\"<10\",\"10-14\",\"15-19\",\"20-24\",\"25-29\",\"30-34\",\"35-39\",\"40+\"]\n",
    "\n",
    "# group by age\n",
    "player_age = purchase_data.copy()\n",
    "player_age = player_age.groupby(\"Age\")\n",
    "\n",
    "# cut data using bins\n",
    "player_age[\"Age\"] = pd.cut(player_age[\"Age\"], age_bins, labels=age_groups).head()\n",
    "player_age.head()"
   ]
  },
  {
   "cell_type": "code",
   "execution_count": null,
   "metadata": {},
   "outputs": [],
   "source": [
    "# my code\n"
   ]
  }
 ]
}